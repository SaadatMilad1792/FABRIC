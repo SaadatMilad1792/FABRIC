{
 "cells": [
  {
   "cell_type": "code",
   "execution_count": 1,
   "id": "686bdf06-4cb2-46b8-833d-80c18842519b",
   "metadata": {},
   "outputs": [],
   "source": [
    "import FABRIC\n",
    "\n",
    "params = FABRIC.loadArgs('./params/params.yaml')\n",
    "# FABRIC.dirSweep('/esplabdata/FABRIC/raw')\n",
    "\n",
    "data, _, _ = FABRIC.loadbsf('/esplabdata/FABRIC/raw/MP/1008_MP_POST_BSC1.bsf', plot = False)"
   ]
  },
  {
   "cell_type": "code",
   "execution_count": 2,
   "id": "eec61d63-74da-4ce5-aac4-22e091e7ef37",
   "metadata": {},
   "outputs": [
    {
     "data": {
      "text/plain": [
       "array([[ 1.44250490e+00, -1.52435305e-01,  7.56687511e+02,\n",
       "        -1.34252935e+01,  5.79907251e+00, -4.72534200e+00],\n",
       "       [ 1.40161135e+00,  1.62673953e-01,  7.55218761e+02,\n",
       "        -1.38437506e+01,  5.95727564e+00, -4.68774434e+00],\n",
       "       [ 1.34185793e+00, -5.08728035e-01,  7.56500011e+02,\n",
       "        -1.37075201e+01,  5.77319360e+00, -4.68798848e+00],\n",
       "       ...,\n",
       "       [ 4.54345710e+00, -6.11938486e+00,  7.54562511e+02,\n",
       "         4.50732441e+00, -3.11904920e-01, -4.30908221e+00],\n",
       "       [ 4.41357429e+00, -6.06835947e+00,  7.51500011e+02,\n",
       "         4.81835958e+00, -5.46295189e-01, -4.26489276e+00],\n",
       "       [ 4.72265632e+00, -6.07641611e+00,  7.54750011e+02,\n",
       "         4.63549824e+00, -2.82485974e-01, -4.29980487e+00]])"
      ]
     },
     "execution_count": 2,
     "metadata": {},
     "output_type": "execute_result"
    }
   ],
   "source": [
    "data"
   ]
  }
 ],
 "metadata": {
  "kernelspec": {
   "display_name": "Python 3 (ipykernel)",
   "language": "python",
   "name": "python3"
  },
  "language_info": {
   "codemirror_mode": {
    "name": "ipython",
    "version": 3
   },
   "file_extension": ".py",
   "mimetype": "text/x-python",
   "name": "python",
   "nbconvert_exporter": "python",
   "pygments_lexer": "ipython3",
   "version": "3.9.12"
  }
 },
 "nbformat": 4,
 "nbformat_minor": 5
}
