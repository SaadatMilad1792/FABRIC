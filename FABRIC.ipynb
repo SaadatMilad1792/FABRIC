{
 "cells": [
  {
   "cell_type": "code",
   "execution_count": null,
   "id": "686bdf06-4cb2-46b8-833d-80c18842519b",
   "metadata": {},
   "outputs": [
    {
     "name": "stdout",
     "output_type": "stream",
     "text": [
      "Processing: MP -> 1048_MP_PRE_BUC1.bsf: [4.541 %]                     \r"
     ]
    }
   ],
   "source": [
    "import FABRIC\n",
    "\n",
    "params = FABRIC.loadArgs('./params/params.yaml')\n",
    "FABRIC.genFabDf(params)"
   ]
  },
  {
   "cell_type": "code",
   "execution_count": null,
   "id": "696d32b2-28be-4e78-b359-26eca6ba1dfa",
   "metadata": {},
   "outputs": [],
   "source": [
    "a"
   ]
  }
 ],
 "metadata": {
  "kernelspec": {
   "display_name": "Python 3 (ipykernel)",
   "language": "python",
   "name": "python3"
  },
  "language_info": {
   "codemirror_mode": {
    "name": "ipython",
    "version": 3
   },
   "file_extension": ".py",
   "mimetype": "text/x-python",
   "name": "python",
   "nbconvert_exporter": "python",
   "pygments_lexer": "ipython3",
   "version": "3.9.12"
  }
 },
 "nbformat": 4,
 "nbformat_minor": 5
}
