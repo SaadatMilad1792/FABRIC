{
 "cells": [
  {
   "cell_type": "code",
   "execution_count": null,
   "id": "686bdf06-4cb2-46b8-833d-80c18842519b",
   "metadata": {},
   "outputs": [
    {
     "name": "stdout",
     "output_type": "stream",
     "text": [
      "[+] FABRIC: genFabDf marked as deactive, modify param.yaml for activation.\n",
      "[+] FABRIC Data Frame Successfully Loaded.\n"
     ]
    }
   ],
   "source": [
    "import FABRIC\n",
    "\n",
    "params = FABRIC.loadArgs('./params/params.yaml')\n",
    "FABRIC.genFabDf(params)\n",
    "# FABRIC.featExtr(params)"
   ]
  },
  {
   "cell_type": "code",
   "execution_count": null,
   "id": "c6cc55d2-c498-4838-abdb-b222a27717be",
   "metadata": {},
   "outputs": [],
   "source": [
    "import pandas as pd\n",
    "df = pd.read_pickle('/esplabdata/FABRIC/prc/UNIVERSAL_FABRIC_FT.pkl.gz', compression='gzip')"
   ]
  }
 ],
 "metadata": {
  "kernelspec": {
   "display_name": "Python 3 (ipykernel)",
   "language": "python",
   "name": "python3"
  },
  "language_info": {
   "codemirror_mode": {
    "name": "ipython",
    "version": 3
   },
   "file_extension": ".py",
   "mimetype": "text/x-python",
   "name": "python",
   "nbconvert_exporter": "python",
   "pygments_lexer": "ipython3",
   "version": "3.9.12"
  }
 },
 "nbformat": 4,
 "nbformat_minor": 5
}
