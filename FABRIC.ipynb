{
 "cells": [
  {
   "cell_type": "code",
   "execution_count": 1,
   "id": "686bdf06-4cb2-46b8-833d-80c18842519b",
   "metadata": {},
   "outputs": [
    {
     "name": "stdout",
     "output_type": "stream",
     "text": [
      "[+] FABRIC: genFabDf marked as deactive, modify param.yaml for activation.\n"
     ]
    }
   ],
   "source": [
    "import FABRIC\n",
    "\n",
    "params = FABRIC.loadArgs('./params/params.yaml')\n",
    "params[\"visytic\"][\"funcStat\"] = True\n",
    "__ = FABRIC.genFabDf(params)\n",
    "__ = FABRIC.analytic(params)"
   ]
  },
  {
   "cell_type": "code",
   "execution_count": 2,
   "id": "96eace42-ed40-4f83-9d1e-490037293eaf",
   "metadata": {},
   "outputs": [],
   "source": [
    "import pandas as pd\n",
    "# df = pd.read_pickle('/esplabdata/FABRIC/prc/UNIVERSAL_FABRIC.pkl.gz', compression = 'gzip')\n",
    "# dataFrame = df"
   ]
  },
  {
   "cell_type": "code",
   "execution_count": 3,
   "id": "c1fbdd54-2eac-4308-9e9a-1bf51334f064",
   "metadata": {},
   "outputs": [],
   "source": [
    "# df = pd.read_pickle('/esplabdata/FABRIC/prc/UNIVERSAL_FABRIC_test.pkl.gz', compression = 'gzip')\n",
    "# dataPacketCol = df[\"dataPacket\"].apply(lambda x: x)\n",
    "# df.head(4)"
   ]
  },
  {
   "cell_type": "code",
   "execution_count": 4,
   "id": "bd1c7306-4203-4419-8560-d3b5a63e27d7",
   "metadata": {},
   "outputs": [],
   "source": [
    "# pd.concat(df[\"dataPacket\"].head(4).tolist(), ignore_index = True)"
   ]
  },
  {
   "cell_type": "code",
   "execution_count": null,
   "id": "e0a137c9-9f8f-4e85-b0c3-6a9b7ff73d7d",
   "metadata": {},
   "outputs": [],
   "source": []
  }
 ],
 "metadata": {
  "kernelspec": {
   "display_name": "Python 3 (ipykernel)",
   "language": "python",
   "name": "python3"
  },
  "language_info": {
   "codemirror_mode": {
    "name": "ipython",
    "version": 3
   },
   "file_extension": ".py",
   "mimetype": "text/x-python",
   "name": "python",
   "nbconvert_exporter": "python",
   "pygments_lexer": "ipython3",
   "version": "3.9.12"
  }
 },
 "nbformat": 4,
 "nbformat_minor": 5
}
