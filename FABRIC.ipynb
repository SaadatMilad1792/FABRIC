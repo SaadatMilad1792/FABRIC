{
 "cells": [
  {
   "cell_type": "code",
   "execution_count": 1,
   "id": "686bdf06-4cb2-46b8-833d-80c18842519b",
   "metadata": {},
   "outputs": [],
   "source": [
    "import FABRIC\n",
    "\n",
    "params = FABRIC.loadArgs('./params/params.yaml')\n",
    "# FABRIC.dirSweep('/esplabdata/FABRIC/raw')\n",
    "FABRIC.bsObject(params)\n",
    "# data, _, _ = FABRIC.loadbsf('/esplabdata/FABRIC/raw/MP/1008_MP_POST_BSC1.bsf', plot = False)"
   ]
  }
 ],
 "metadata": {
  "kernelspec": {
   "display_name": "Python 3 (ipykernel)",
   "language": "python",
   "name": "python3"
  },
  "language_info": {
   "codemirror_mode": {
    "name": "ipython",
    "version": 3
   },
   "file_extension": ".py",
   "mimetype": "text/x-python",
   "name": "python",
   "nbconvert_exporter": "python",
   "pygments_lexer": "ipython3",
   "version": "3.9.12"
  }
 },
 "nbformat": 4,
 "nbformat_minor": 5
}
