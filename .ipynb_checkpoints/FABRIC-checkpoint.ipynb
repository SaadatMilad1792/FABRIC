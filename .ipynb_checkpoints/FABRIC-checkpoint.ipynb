{
 "cells": [
  {
   "cell_type": "code",
   "execution_count": 5,
   "id": "686bdf06-4cb2-46b8-833d-80c18842519b",
   "metadata": {},
   "outputs": [
    {
     "ename": "KeyError",
     "evalue": "'vistyic'",
     "output_type": "error",
     "traceback": [
      "\u001b[0;31m---------------------------------------------------------------------------\u001b[0m",
      "\u001b[0;31mKeyError\u001b[0m                                  Traceback (most recent call last)",
      "Input \u001b[0;32mIn [5]\u001b[0m, in \u001b[0;36m<cell line: 4>\u001b[0;34m()\u001b[0m\n\u001b[1;32m      1\u001b[0m \u001b[38;5;28;01mimport\u001b[39;00m \u001b[38;5;21;01mFABRIC\u001b[39;00m\n\u001b[1;32m      3\u001b[0m params \u001b[38;5;241m=\u001b[39m FABRIC\u001b[38;5;241m.\u001b[39mloadArgs(\u001b[38;5;124m'\u001b[39m\u001b[38;5;124m./params/params.yaml\u001b[39m\u001b[38;5;124m'\u001b[39m)\n\u001b[0;32m----> 4\u001b[0m \u001b[43mparams\u001b[49m\u001b[43m[\u001b[49m\u001b[38;5;124;43m\"\u001b[39;49m\u001b[38;5;124;43mvistyic\u001b[39;49m\u001b[38;5;124;43m\"\u001b[39;49m\u001b[43m]\u001b[49m[\u001b[38;5;124m\"\u001b[39m\u001b[38;5;124mfuncStat\u001b[39m\u001b[38;5;124m\"\u001b[39m] \u001b[38;5;241m=\u001b[39m \u001b[38;5;28;01mTrue\u001b[39;00m\n\u001b[1;32m      5\u001b[0m __ \u001b[38;5;241m=\u001b[39m FABRIC\u001b[38;5;241m.\u001b[39mgenFabDf(params)\n\u001b[1;32m      6\u001b[0m __ \u001b[38;5;241m=\u001b[39m FABRIC\u001b[38;5;241m.\u001b[39manalytic(params)\n",
      "\u001b[0;31mKeyError\u001b[0m: 'vistyic'"
     ]
    }
   ],
   "source": [
    "import FABRIC\n",
    "\n",
    "params = FABRIC.loadArgs('./params/params.yaml')\n",
    "params[\"visytic\"][\"funcStat\"] = True\n",
    "__ = FABRIC.genFabDf(params)\n",
    "__ = FABRIC.analytic(params)"
   ]
  },
  {
   "cell_type": "code",
   "execution_count": 4,
   "id": "96eace42-ed40-4f83-9d1e-490037293eaf",
   "metadata": {},
   "outputs": [],
   "source": [
    "import pandas as pd\n",
    "# df = pd.read_pickle('/esplabdata/FABRIC/prc/UNIVERSAL_FABRIC.pkl.gz', compression = 'gzip')\n",
    "# dataFrame = df"
   ]
  },
  {
   "cell_type": "code",
   "execution_count": null,
   "id": "c1fbdd54-2eac-4308-9e9a-1bf51334f064",
   "metadata": {},
   "outputs": [],
   "source": [
    "# df = pd.read_pickle('/esplabdata/FABRIC/prc/UNIVERSAL_FABRIC_test.pkl.gz', compression = 'gzip')\n",
    "dataPacketCol = df[\"dataPacket\"].apply(lambda x: x)\n",
    "df.head(4)"
   ]
  },
  {
   "cell_type": "code",
   "execution_count": null,
   "id": "bd1c7306-4203-4419-8560-d3b5a63e27d7",
   "metadata": {},
   "outputs": [],
   "source": [
    "pd.concat(df[\"dataPacket\"].head(4).tolist(), ignore_index = True)"
   ]
  },
  {
   "cell_type": "code",
   "execution_count": null,
   "id": "c6cc55d2-c498-4838-abdb-b222a27717be",
   "metadata": {},
   "outputs": [],
   "source": [
    "# import pandas as pd\n",
    "# dfRaw = pd.read_pickle('/esplabdata/FABRIC/prc/UNIVERSAL_FABRIC_RAW.pkl.gz', compression = 'gzip')\n",
    "# dfExt = pd.read_pickle('/esplabdata/FABRIC/prc/UNIVERSAL_FABRIC_EXT.pkl.gz', compression = 'gzip')"
   ]
  }
 ],
 "metadata": {
  "kernelspec": {
   "display_name": "Python 3 (ipykernel)",
   "language": "python",
   "name": "python3"
  },
  "language_info": {
   "codemirror_mode": {
    "name": "ipython",
    "version": 3
   },
   "file_extension": ".py",
   "mimetype": "text/x-python",
   "name": "python",
   "nbconvert_exporter": "python",
   "pygments_lexer": "ipython3",
   "version": "3.9.12"
  }
 },
 "nbformat": 4,
 "nbformat_minor": 5
}
