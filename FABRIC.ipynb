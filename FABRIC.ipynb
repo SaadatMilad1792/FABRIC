{
 "cells": [
  {
   "cell_type": "code",
   "execution_count": 1,
   "id": "686bdf06-4cb2-46b8-833d-80c18842519b",
   "metadata": {},
   "outputs": [
    {
     "name": "stdout",
     "output_type": "stream",
     "text": [
      "[+] FABRIC: genFabDf marked as deactive, modify param.yaml for activation.\n"
     ]
    },
    {
     "ename": "NameError",
     "evalue": "name 'df' is not defined",
     "output_type": "error",
     "traceback": [
      "\u001b[0;31m---------------------------------------------------------------------------\u001b[0m",
      "\u001b[0;31mNameError\u001b[0m                                 Traceback (most recent call last)",
      "Input \u001b[0;32mIn [1]\u001b[0m, in \u001b[0;36m<cell line: 6>\u001b[0;34m()\u001b[0m\n\u001b[1;32m      4\u001b[0m params[\u001b[38;5;124m\"\u001b[39m\u001b[38;5;124mvisytic\u001b[39m\u001b[38;5;124m\"\u001b[39m][\u001b[38;5;124m\"\u001b[39m\u001b[38;5;124mfuncStat\u001b[39m\u001b[38;5;124m\"\u001b[39m] \u001b[38;5;241m=\u001b[39m \u001b[38;5;28;01mTrue\u001b[39;00m\n\u001b[1;32m      5\u001b[0m __ \u001b[38;5;241m=\u001b[39m FABRIC\u001b[38;5;241m.\u001b[39mgenFabDf(params)\n\u001b[0;32m----> 6\u001b[0m __ \u001b[38;5;241m=\u001b[39m \u001b[43mFABRIC\u001b[49m\u001b[38;5;241;43m.\u001b[39;49m\u001b[43manalytic\u001b[49m\u001b[43m(\u001b[49m\u001b[43mparams\u001b[49m\u001b[43m)\u001b[49m\n",
      "File \u001b[0;32m~/FABRIC/FABRIC/ANALYTIC/analytic.py:29\u001b[0m, in \u001b[0;36manalytic\u001b[0;34m(params)\u001b[0m\n\u001b[1;32m     27\u001b[0m \u001b[38;5;28;01mfor\u001b[39;00m gpFilter, groupDat \u001b[38;5;129;01min\u001b[39;00m groups:\n\u001b[1;32m     28\u001b[0m   \u001b[38;5;28;01mif\u001b[39;00m \u001b[38;5;129;01mnot\u001b[39;00m \u001b[38;5;124m\"\u001b[39m\u001b[38;5;124mUnknown\u001b[39m\u001b[38;5;124m\"\u001b[39m \u001b[38;5;129;01min\u001b[39;00m gpFilter:\n\u001b[0;32m---> 29\u001b[0m     plotList \u001b[38;5;241m=\u001b[39m \u001b[43mfeatPlot\u001b[49m\u001b[43m(\u001b[49m\u001b[43mparams\u001b[49m\u001b[43m,\u001b[49m\u001b[43m \u001b[49m\u001b[43mgpFilter\u001b[49m\u001b[43m,\u001b[49m\u001b[43m \u001b[49m\u001b[43mgroupDat\u001b[49m\u001b[43m)\u001b[49m\n\u001b[1;32m     30\u001b[0m     plotList[\u001b[38;5;241m0\u001b[39m]\u001b[38;5;241m.\u001b[39msavefig(os\u001b[38;5;241m.\u001b[39mpath\u001b[38;5;241m.\u001b[39mjoin(outDirectory, outFolder, \u001b[38;5;124mf\u001b[39m\u001b[38;5;124m\"\u001b[39m\u001b[38;5;132;01m{\u001b[39;00m\u001b[38;5;124m'\u001b[39m\u001b[38;5;124mboxPlt_\u001b[39m\u001b[38;5;124m'\u001b[39m\u001b[38;5;250m \u001b[39m\u001b[38;5;241m+\u001b[39m\u001b[38;5;250m \u001b[39m\u001b[38;5;124m'\u001b[39m\u001b[38;5;124m_\u001b[39m\u001b[38;5;124m'\u001b[39m\u001b[38;5;241m.\u001b[39mjoin(gpFilter)\u001b[38;5;132;01m}\u001b[39;00m\u001b[38;5;124m.png\u001b[39m\u001b[38;5;124m\"\u001b[39m))\n\u001b[1;32m     31\u001b[0m     plotList[\u001b[38;5;241m1\u001b[39m]\u001b[38;5;241m.\u001b[39msavefig(os\u001b[38;5;241m.\u001b[39mpath\u001b[38;5;241m.\u001b[39mjoin(outDirectory, outFolder, \u001b[38;5;124mf\u001b[39m\u001b[38;5;124m\"\u001b[39m\u001b[38;5;132;01m{\u001b[39;00m\u001b[38;5;124m'\u001b[39m\u001b[38;5;124mhstPlt_\u001b[39m\u001b[38;5;124m'\u001b[39m\u001b[38;5;250m \u001b[39m\u001b[38;5;241m+\u001b[39m\u001b[38;5;250m \u001b[39m\u001b[38;5;124m'\u001b[39m\u001b[38;5;124m_\u001b[39m\u001b[38;5;124m'\u001b[39m\u001b[38;5;241m.\u001b[39mjoin(gpFilter)\u001b[38;5;132;01m}\u001b[39;00m\u001b[38;5;124m.png\u001b[39m\u001b[38;5;124m\"\u001b[39m))\n",
      "File \u001b[0;32m~/FABRIC/FABRIC/ANALYTIC/featPlot.py:18\u001b[0m, in \u001b[0;36mfeatPlot\u001b[0;34m(params, gpFilter, groupDat)\u001b[0m\n\u001b[1;32m     16\u001b[0m PRE \u001b[38;5;241m=\u001b[39m groupDat[groupDat[\u001b[38;5;124m\"\u001b[39m\u001b[38;5;124mexpStage\u001b[39m\u001b[38;5;124m\"\u001b[39m] \u001b[38;5;241m==\u001b[39m \u001b[38;5;124m\"\u001b[39m\u001b[38;5;124mPRE\u001b[39m\u001b[38;5;124m\"\u001b[39m]\n\u001b[1;32m     17\u001b[0m POST \u001b[38;5;241m=\u001b[39m groupDat[groupDat[\u001b[38;5;124m\"\u001b[39m\u001b[38;5;124mexpStage\u001b[39m\u001b[38;5;124m\"\u001b[39m] \u001b[38;5;241m==\u001b[39m \u001b[38;5;124m\"\u001b[39m\u001b[38;5;124mPOST\u001b[39m\u001b[38;5;124m\"\u001b[39m]\n\u001b[0;32m---> 18\u001b[0m features \u001b[38;5;241m=\u001b[39m groupDat\u001b[38;5;241m.\u001b[39miloc[:, \u001b[43mdf\u001b[49m\u001b[38;5;241m.\u001b[39mcolumns\u001b[38;5;241m.\u001b[39mget_loc(\u001b[38;5;124m\"\u001b[39m\u001b[38;5;124mmean_value_ML\u001b[39m\u001b[38;5;124m\"\u001b[39m):]\u001b[38;5;241m.\u001b[39mkeys()\n\u001b[1;32m     20\u001b[0m sns\u001b[38;5;241m.\u001b[39mset(style \u001b[38;5;241m=\u001b[39m \u001b[38;5;124m\"\u001b[39m\u001b[38;5;124mwhitegrid\u001b[39m\u001b[38;5;124m\"\u001b[39m, context \u001b[38;5;241m=\u001b[39m \u001b[38;5;124m\"\u001b[39m\u001b[38;5;124mtalk\u001b[39m\u001b[38;5;124m\"\u001b[39m)\n\u001b[1;32m     21\u001b[0m fig, axes \u001b[38;5;241m=\u001b[39m plt\u001b[38;5;241m.\u001b[39msubplots(nrows \u001b[38;5;241m=\u001b[39m \u001b[38;5;241m8\u001b[39m, ncols \u001b[38;5;241m=\u001b[39m \u001b[38;5;241m9\u001b[39m, figsize \u001b[38;5;241m=\u001b[39m (\u001b[38;5;241m9\u001b[39m \u001b[38;5;241m*\u001b[39m \u001b[38;5;241m10\u001b[39m, \u001b[38;5;241m8\u001b[39m \u001b[38;5;241m*\u001b[39m \u001b[38;5;241m10\u001b[39m), dpi \u001b[38;5;241m=\u001b[39m \u001b[38;5;241m100\u001b[39m, facecolor \u001b[38;5;241m=\u001b[39m \u001b[38;5;124m\"\u001b[39m\u001b[38;5;124mwhite\u001b[39m\u001b[38;5;124m\"\u001b[39m)\n",
      "\u001b[0;31mNameError\u001b[0m: name 'df' is not defined"
     ]
    }
   ],
   "source": [
    "import FABRIC\n",
    "\n",
    "params = FABRIC.loadArgs('./params/params.yaml')\n",
    "params[\"visytic\"][\"funcStat\"] = True\n",
    "__ = FABRIC.genFabDf(params)\n",
    "__ = FABRIC.analytic(params)"
   ]
  },
  {
   "cell_type": "code",
   "execution_count": null,
   "id": "96eace42-ed40-4f83-9d1e-490037293eaf",
   "metadata": {},
   "outputs": [],
   "source": [
    "import pandas as pd\n",
    "# df = pd.read_pickle('/esplabdata/FABRIC/prc/UNIVERSAL_FABRIC.pkl.gz', compression = 'gzip')\n",
    "# dataFrame = df"
   ]
  },
  {
   "cell_type": "code",
   "execution_count": null,
   "id": "c1fbdd54-2eac-4308-9e9a-1bf51334f064",
   "metadata": {},
   "outputs": [],
   "source": [
    "# df = pd.read_pickle('/esplabdata/FABRIC/prc/UNIVERSAL_FABRIC_test.pkl.gz', compression = 'gzip')\n",
    "dataPacketCol = df[\"dataPacket\"].apply(lambda x: x)\n",
    "df.head(4)"
   ]
  },
  {
   "cell_type": "code",
   "execution_count": null,
   "id": "bd1c7306-4203-4419-8560-d3b5a63e27d7",
   "metadata": {},
   "outputs": [],
   "source": [
    "pd.concat(df[\"dataPacket\"].head(4).tolist(), ignore_index = True)"
   ]
  },
  {
   "cell_type": "code",
   "execution_count": null,
   "id": "c6cc55d2-c498-4838-abdb-b222a27717be",
   "metadata": {},
   "outputs": [],
   "source": [
    "# import pandas as pd\n",
    "# dfRaw = pd.read_pickle('/esplabdata/FABRIC/prc/UNIVERSAL_FABRIC_RAW.pkl.gz', compression = 'gzip')\n",
    "# dfExt = pd.read_pickle('/esplabdata/FABRIC/prc/UNIVERSAL_FABRIC_EXT.pkl.gz', compression = 'gzip')"
   ]
  }
 ],
 "metadata": {
  "kernelspec": {
   "display_name": "Python 3 (ipykernel)",
   "language": "python",
   "name": "python3"
  },
  "language_info": {
   "codemirror_mode": {
    "name": "ipython",
    "version": 3
   },
   "file_extension": ".py",
   "mimetype": "text/x-python",
   "name": "python",
   "nbconvert_exporter": "python",
   "pygments_lexer": "ipython3",
   "version": "3.9.12"
  }
 },
 "nbformat": 4,
 "nbformat_minor": 5
}
